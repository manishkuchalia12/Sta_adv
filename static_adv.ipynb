{
 "cells": [
  {
   "cell_type": "markdown",
   "id": "4ee3c4af-3736-4699-998b-f31e80883be1",
   "metadata": {},
   "source": [
    "Q1: What are the Probability Mass Function (PMF) and Probability Density Function (PDF)? Explain with Probability Density Function (PDF):\r\n",
    "A Probability Density Function (PDF) is similar to the PMF but is used for continuous random variables. It describes the likelihood of a continuous random variable falling within a particular range. Unlike the PMF, the PDF does not give the probability at a specific point but rather the probability density over a range. The integral of the PDF over a range gives the probability of the variable falling within that range.Example:\r\n",
    "Consider a continuous random variable representing the height of individuals in a population. The PDF might be represented a f(x), where �\r\n",
    "x is the height. The probability of an individual having a height between 5 feet and 6 feet is given by the integral  f(x) from 5 to 6ofs.an example\n",
    "Ans:"
   ]
  },
  {
   "cell_type": "markdown",
   "id": "c9fc5803-b3f1-415b-9f54-8b1ace2691bc",
   "metadata": {},
   "source": [
    "Q2: What is Cumulative Density Function (CDF)? Explain with an example. Why CDF is used\n",
    "Ans:The Cumulative Distribution Function (CDF) is a function associated with a probability distribution. \n",
    "In mathematical terms, the CDF is given by the integral of the Probability Density Function (PDF) for continuous random variables or the sum of the Probability Mass Function (PMF) for discrete random variables up to a certain value.\n",
    "In Python, the CDF is often used for various purposes in statistical analysis and hypothesis testing. Here's why:\n",
    "\r\n",
    "Probability Calculation: The CDF provides a convenient way to calculate probabilities. You can use it to find the probability that a random variable falls within a specific rang.\r\n",
    "\r\n",
    "Quantile Calculation: Inverse of the CDF, known as the Quantile Function, helps in finding values corresponding to specific probabilities. For example, finding the value below which a certain percentage of observations fll.\r\n",
    "\r\n",
    "Statistical Testing: CDFs are frequently used in statistical testing and hypothesis testing. Comparing CDFs of observed and expected data can reveal insights into the distribution of thedata.\r\n",
    "\r\n",
    "In Python, the scipy.stats module provides functions to work with CDFs. For example, using the cumulative distribution function (cdf) method of a distribution object:"
   ]
  },
  {
   "cell_type": "code",
   "execution_count": null,
   "id": "add50070-1dfe-42d3-9c25-ba622f3f4866",
   "metadata": {},
   "outputs": [],
   "source": [
    "import scipy.stats as stats\n",
    "\n",
    "# Example: Cumulative Distribution Function (CDF) for a normal distribution\n",
    "mean = 0\n",
    "std_dev = 1\n",
    "normal_distribution = stats.norm(mean, std_dev)\n",
    "\n",
    "# Calculate CDF for a specific value, e.g., P(X <= 1)\n",
    "probability = normal_distribution.cdf(1)\n",
    "print(f\"Probability that X <= 1: {probability}\")\n"
   ]
  },
  {
   "cell_type": "markdown",
   "id": "cb84ec3a-d4c4-477a-8325-4567a251c4a8",
   "metadata": {},
   "source": [
    "Q3: What are some examples of situations where the normal distribution might be used as a model? \n",
    "Explain how the parameters of the normal distribution relate to the shape of the distribution\n",
    "Ans:-Sure, let's consider a simple example in Python using the numpy and matplotlib libraries. We'll generate a set of random data that follows a normal distribution and then visualize it."
   ]
  },
  {
   "cell_type": "code",
   "execution_count": null,
   "id": "c6f4b18d-291d-4759-917d-1d5f3cb2cc7c",
   "metadata": {},
   "outputs": [],
   "source": [
    "import numpy as np\n",
    "import matplotlib.pyplot as plt\n",
    "from scipy.stats import norm\n",
    "\n",
    "# Set the parameters of the normal distribution\n",
    "mean = 0\n",
    "std_dev = 1\n",
    "\n",
    "# Generate random data following a normal distribution\n",
    "data = np.random.normal(mean, std_dev, 1000)\n",
    "\n",
    "# Plot the histogram of the generated data\n",
    "plt.hist(data, bins=30, density=True, alpha=0.6, color='g')\n",
    "\n",
    "# Plot the probability density function (PDF) for the normal distribution\n",
    "xmin, xmax = plt.xlim()\n",
    "x = np.linspace(xmin, xmax, 100)\n",
    "p = norm.pdf(x, mean, std_dev)\n",
    "plt.plot(x, p, 'k', linewidth=2)\n",
    "\n",
    "plt.title(\"Normal Distribution Example\")\n",
    "plt.xlabel(\"Value\")\n",
    "plt.ylabel(\"Probability Density\")\n",
    "plt.show()\n"
   ]
  },
  {
   "cell_type": "markdown",
   "id": "6a3840f6-f6c4-40e9-94fb-2e3d2bbf8392",
   "metadata": {},
   "source": [
    "Q4: Explain the importance of Normal Distribution. Give a few real-life examples of Normal \n",
    "Distribution.\n",
    "Ans:-The normal distribution is of great importance in statistics and probability theory due to several key properties and the prevalence of this distribution in various natural phenomena. Here are some reasons why the normal distribution is important:\n",
    "Central Limit Theorem (CLT): The normal distribution is a key component of the Central Limit Theorem. According to the CLT, the sum (or average) of a large number of independent and identically distributed random variables, regardless of the original distribution, will be approximately normally distributed. This property makes the normal distribution fundamental in statistical inference.\n",
    "Statistical Inference: Many statistical methods and tests are based on the assumption of normality. For example, t-tests and analysis of variance (ANOVA) assume that the data are normally distributed. The normal distribution simplifies the mathematical computations involved in these statistical procedures.\n",
    "Parameter Estimation: In parametric statistics, the normal distribution is often used as a reference distribution for estimating parameters, such as mean and standard deviation, through methods like maximum likelihood estimation.\n",
    "Prediction and Forecasting: In various fields, including finance, economics, and environmental science, normal distribution is used for predicting future events. For instance, stock prices, economic indicators, and weather variables are often modeled assuming a normal distribution.\n",
    "Quality Control: In manufacturing and quality control processes, normal distribution is frequently used to model the distribution of product characteristics. It helps in setting tolerances and understanding the variability in production processes.\n",
    "Biological Phenomena: Many biological measurements, such as height, weight, and blood pressure, are approximately normally distributed in large populations. This makes the normal distribution a useful model for studying and understanding biological variations.\n",
    "Psychometrics: In psychology and psychometrics, test scores, IQ scores, and various psychological traits are often assumed to follow a normal distribution. This assumption forms the basis for many statistical analyses in these fields.\n",
    "Real-Life Examples of Normal Distribution:\n",
    "Heights of a Population: The distribution of heights in a large population tends to follow a normal distribution, with most people clustered around the average height.\n",
    "IQ Scores: Intelligence Quotient (IQ) scores are designed to follow a normal distribution, with a mean of 100 and a standard deviation of 15 in a standard IQ scale.\n",
    "Scores on Standardized Tests: Scores on standardized tests, such as SAT or GRE, are often assumed to be normally distributed.\n",
    "Errors in Measurements: Measurement errors, such as errors in scientific experiments or errors in industrial processes, often follow a normal distribution.\n",
    "Financial Returns: Daily or monthly financial returns in the stock market are often modeled using a normal distribution in financial analysis."
   ]
  },
  {
   "cell_type": "markdown",
   "id": "318de0c6-f5cb-4558-8dcb-3684c95df280",
   "metadata": {},
   "source": [
    "Q5: What is Bernaulli Distribution? Give an Example. What is the difference between Bernoulli \n",
    "Distribution and Binomial Distribution?\n",
    "Ans:-Bernoulli Distribution:\n",
    "\r\n",
    "The Bernoulli distribution is a discrete probability distribution that describes a random experiment with only two possible outcomes: success (usually denoted as 1) or failure (usually denoted as 0). It is named after Jacob Bernoulli, a Swiss mathematicia\n",
    "Binomial Distribution:\n",
    "\r\n",
    "The Binomial distribution is an extension of the Bernoulli distribution and describes the number of successes in a fixed number of independent and identically distributed Bernoulli trials. In other words, it models the number of successes (or failures) in a series of independent experiments, each with the same probability of succes\n",
    "Difference Between Bernoulli and Binomial Distribution:\n",
    "\r\n",
    "Number of Trial:\r\n",
    "\r\n",
    "Bernoulli Distribution: Describes a single trial or experiment with two possible outcomes (success or failure).\r\n",
    "Binomial Distribution: Describes the number of successes in a fixed number of independent Bernoulli trials.\r\n",
    "Random Varibles:\r\n",
    "\r\n",
    "Bernoulli Distribution: Has a single random variable (0 or 1) representing the outcome of a single trial.\r\n",
    "Binomial Distribution: Has a random variable representing the number of successes in a fixed number of trials.s.n."
   ]
  },
  {
   "cell_type": "markdown",
   "id": "b24b6c5d-6ceb-40fc-8baf-b743fce91d19",
   "metadata": {},
   "source": [
    "Q6. Consider a dataset with a mean of 50 and a standard deviation of 10. If we assume that the dataset \n",
    "is normally distributed, what is the probability that a randomly selected observation will be greater \n",
    "than 60? Use the appropriate formula and show your calculations"
   ]
  },
  {
   "cell_type": "code",
   "execution_count": null,
   "id": "a6224dba-39f1-4436-bcc6-e8cef82ae4b8",
   "metadata": {},
   "outputs": [],
   "source": [
    "from scipy.stats import norm\n",
    "\n",
    "# Given parameters\n",
    "mean = 50\n",
    "std_dev = 10\n",
    "observation_value = 60\n",
    "\n",
    "# Calculate the probability using the CDF\n",
    "probability_greater_than_60 = 1 - norm.cdf(observation_value, loc=mean, scale=std_dev)\n",
    "\n",
    "print(f\"The probability that a randomly selected observation is greater than 60 is: {probability_greater_than_60:.4f}\")\n"
   ]
  },
  {
   "cell_type": "markdown",
   "id": "357169e6-3f22-4213-82a3-7d76cf7104ed",
   "metadata": {},
   "source": [
    "Q7: Explain uniform Distribution with an example.\n",
    "Ans:-The uniform distribution is a probability distribution where every possible outcome is equally likely. In a uniform distribution, all values within a given range have the same probability of occurring. The probability density function (PDF) for a continuous uniform distribution is constant within the range and zero outside the range."
   ]
  },
  {
   "cell_type": "code",
   "execution_count": null,
   "id": "b18bad06-a851-4a49-835d-e8570c23fc51",
   "metadata": {},
   "outputs": [],
   "source": [
    "import numpy as np\n",
    "import matplotlib.pyplot as plt\n",
    "from scipy.stats import uniform\n",
    "\n",
    "# Set the range of the uniform distribution\n",
    "a = 1\n",
    "b = 7  # Note: The upper bound (b) is exclusive for continuous uniform distribution\n",
    "\n",
    "# Generate random data following a continuous uniform distribution\n",
    "data = np.random.uniform(a, b, 1000)\n",
    "\n",
    "# Plot the histogram of the generated data\n",
    "plt.hist(data, bins=20, density=True, alpha=0.6, color='g')\n",
    "\n",
    "# Plot the probability density function (PDF) for the uniform distribution\n",
    "x = np.linspace(a, b, 100)\n",
    "pdf = uniform.pdf(x, loc=a, scale=b-a)\n",
    "plt.plot(x, pdf, 'k', linewidth=2)\n",
    "\n",
    "plt.title(\"Continuous Uniform Distribution Example\")\n",
    "plt.xlabel(\"Value\")\n",
    "plt.ylabel(\"Probability Density\")\n",
    "plt.show()\n"
   ]
  },
  {
   "cell_type": "markdown",
   "id": "72b025f2-fc7a-45a9-84ce-2800d76df14f",
   "metadata": {},
   "source": [
    "Q8: What is the z score? State the importance of the z score.\n",
    "Ans:-The z-score, also known as the standard score, is a measure of how many standard deviations a data point is from the mean of a dataset. It's a dimensionless quantity that allows for the comparison of data points from different normal distributions. \n",
    "Importance of Z Score:\n",
    "\r\n",
    "Standardization: Z-scores standardize data, allowing for the comparison of scores from different distributions. This is particularly useful in statistics and research where different datasets may have different scales and unit.\r\n",
    "\r\n",
    "Identification of Outliers: Z-scores help identify outliers in a dataset. Data points with z-scores that fall far from the mean (typically beyond ±2 or ±3 standard deviations) may be considered outlirs.\r\n",
    "\r\n",
    "Probability Calculation: Z-scores are used to calculate probabilities associated with specific data points in a normal distribution. The standard normal distribution (with a mean of 0 and a standard deviation of 1) is often used for these calculaions.\r\n",
    "\r\n",
    "Data Transformation: Z-scores are used in various statistical techniques, including hypothesis testing and regression analysis, where standardizing variables can simplify analyses and interpreations.\r\n",
    "\r\n",
    "Quality Control: In manufacturing and quality control, z-scores are used to monitor and control the quality of products. Measurements falling outside a specified range of z-scores may indicate defects or deviations from the expecte quality.\r\n",
    "\r\n",
    "Comparison of Scores: Z-scores allow for the comparison of scores on different scales. This is particularly relevant in fields like education or employment assessments where scores from different tests or evaluations need to be compared."
   ]
  },
  {
   "cell_type": "markdown",
   "id": "064d45b0-ac21-4fc0-a40f-26a06ff65225",
   "metadata": {},
   "source": [
    "Q9: What is Central Limit Theorem? State the significance of the Central Limit Theorem.\n",
    "Ans:-Central Limit Theorem (CLT):\r\n",
    "\r\n",
    "The Central Limit Theorem (CLT) is a fundamental concept in statistics that describes the shape of the sampling distribution of the sample mea\r\n",
    "ˉ\r\n",
    " ) for a large enough sample size, regardless of the shape of the population distribution. In other words, as the sample size increases, the distribution of the sample mean becomes approximately normal, regardless of the shape of the original population distri\n",
    "Significance of the Central Limit Theorem:\n",
    "\r\n",
    "Foundation for Statistical Inference: The Central Limit Theorem is the foundation for many statistical methods and hypothesis tests. It allows statisticians to make inferences about population parameters based on sample statistic.\r\n",
    "\r\n",
    "Normal Approximation: It provides a powerful tool for approximating the distribution of sample means as normal, even if the population distribution is not normal. This simplifies statistical analyes.\r\n",
    "\r\n",
    "Sampling Distributions: The theorem explains why the sampling distribution of the sample mean tends to be normal, which is crucial in understanding the behavior of sample statitics.\r\n",
    "\r\n",
    "Confidence Intervals: The CLT is used to construct confidence intervals for population parameters. The normality assumption often simplifies the calculation of confidence intervals.bution."
   ]
  },
  {
   "cell_type": "code",
   "execution_count": null,
   "id": "81b9aa21-32b3-460d-a358-a000803d87bf",
   "metadata": {},
   "outputs": [],
   "source": [
    "Q10: State the assumptions of the Central Limit Theorem."
   ]
  }
 ],
 "metadata": {
  "kernelspec": {
   "display_name": "Python 3 (ipykernel)",
   "language": "python",
   "name": "python3"
  },
  "language_info": {
   "codemirror_mode": {
    "name": "ipython",
    "version": 3
   },
   "file_extension": ".py",
   "mimetype": "text/x-python",
   "name": "python",
   "nbconvert_exporter": "python",
   "pygments_lexer": "ipython3",
   "version": "3.12.0"
  }
 },
 "nbformat": 4,
 "nbformat_minor": 5
}
